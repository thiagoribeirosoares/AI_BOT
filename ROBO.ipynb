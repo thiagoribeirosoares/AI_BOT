{
 "cells": [
  {
   "attachments": {
    "thiago-2.png": {
     "image/png": "[encoded data removed]"
    }
   },
   "cell_type": "markdown",
   "id": "93a88ee8",
   "metadata": {},
   "source": [
    "![thiago-2.png](attachment:thiago-2.png)\n",
    "# <font color='green'>Thiago Ribeiro</font>\n",
    "### <font color='green'>Projeto - Business Analytics</font>\n",
    "### <font color='blue'>AI Bot Trader - Robô Investidor</font>"
   ]
  },
  {
   "cell_type": "markdown",
   "id": "10647922",
   "metadata": {},
   "source": [
    "**Contatos** - [Linkedin](https://www.linkedin.com/in/thiagoribeirorj/) **e**\n",
    "[WhatsApp](https://api.whatsapp.com/send?phone=5522998834213&text=Ol%C3%A1%2C%20tudo%20bem%3F)\n"
   ]
  },
  {
   "cell_type": "markdown",
   "id": "d748900a",
   "metadata": {},
   "source": [
    "_**Pacotes utilizados neste projeto**_"
   ]
  },
  {
   "cell_type": "code",
   "execution_count": null,
   "id": "2a8a146c",
   "metadata": {},
   "outputs": [],
   "source": [
    "# eXchange para importação dos dados\n",
    "#!pip install -q ccxt"
   ]
  },
  {
   "cell_type": "code",
   "execution_count": null,
   "id": "497eb38c",
   "metadata": {},
   "outputs": [],
   "source": [
    "# Para otimização bayesiana\n",
    "#! pip install -q bayesian-optimization==1.2"
   ]
  },
  {
   "cell_type": "code",
   "execution_count": null,
   "id": "0c0ea2ae",
   "metadata": {},
   "outputs": [],
   "source": [
    "# Versões dos pacotes deste projeto\n",
    "#!pip install pandas==1.2.1\n",
    "#!pip install numpy==1.20.0\n",
    "#!pip install seaborn==0.11.1\n",
    "#!pip install ccxt==1.42.1\n",
    "#!pip install matplotlib==3.3.4\n",
    "#!pip install csv==1.0"
   ]
  },
  {
   "cell_type": "code",
   "execution_count": null,
   "id": "b6d995b2",
   "metadata": {},
   "outputs": [],
   "source": [
    "# Pacotes gerais\n",
    "import csv\n",
    "import ccxt\n",
    "import time\n",
    "import random\n",
    "import types\n",
    "import pkg_resources\n",
    "import numpy as np\n",
    "import pandas as pd\n",
    "import matplotlib.pyplot as plt\n",
    "import seaborn as sns\n",
    "from bayes_opt import BayesianOptimization\n",
    "from pprint import pprint\n",
    "from datetime import datetime\n",
    "sns.set()"
   ]
  },
  {
   "cell_type": "code",
   "execution_count": null,
   "id": "2c5281bc",
   "metadata": {},
   "outputs": [],
   "source": [
    "# Versões utilizadas neste projeto\n",
    "#!pip install -q -U watermark\n",
    "%reload_ext watermark\n",
    "%watermark -a \"Thiago Ribeiro\" --iversions "
   ]
  },
  {
   "cell_type": "markdown",
   "id": "c92adc93",
   "metadata": {},
   "source": [
    "_**Extração de dados em Tempo Real**_"
   ]
  },
  {
   "cell_type": "markdown",
   "id": "4cd15460",
   "metadata": {},
   "source": [
    "_Função para Gravar dados_"
   ]
  },
  {
   "cell_type": "code",
   "execution_count": null,
   "id": "c3ca788a",
   "metadata": {},
   "outputs": [],
   "source": [
    "def grava_csv(arquivo, dados):\n",
    "    with open(arquivo, mode = 'w') as arquivo_saida:\n",
    "        arquivo_saida.write(\"Date,Open,High,Low,Close,Adj Close,Volume\\n\")\n",
    "        # Grava os dados\n",
    "        csv_writer = csv.writer(arquivo_saida, delimiter = ',', quotechar = '\"', quoting = csv.QUOTE_MINIMAL)\n",
    "        csv_writer.writerows(dados)"
   ]
  },
  {
   "cell_type": "markdown",
   "id": "b92f998d",
   "metadata": {},
   "source": [
    "_Função para conexão à eXchange_"
   ]
  },
  {
   "cell_type": "code",
   "execution_count": null,
   "id": "09447ada",
   "metadata": {},
   "outputs": [],
   "source": [
    "def conecta_exchange(exchange, max_retries, symbol, timeframe, since, limit):\n",
    "    \n",
    "    # Inicializar as tentativas em \"zero\"\n",
    "    num_retries = 0\n",
    "    \n",
    "    # Abre a conexão\n",
    "    try:\n",
    "        num_retries += 1\n",
    "        ohlcv = exchange.fetch_ohlcv(symbol, timeframe, since)\n",
    "        return ohlcv\n",
    "    except Exception:\n",
    "        if num_retries > max_retries:\n",
    "            raise\n",
    "        "
   ]
  },
  {
   "cell_type": "markdown",
   "id": "9a279754",
   "metadata": {},
   "source": [
    "_Função para Extração de Dados_"
   ]
  },
  {
   "cell_type": "code",
   "execution_count": null,
   "id": "ee3a529e",
   "metadata": {},
   "outputs": [],
   "source": [
    "def extrai_dados(exchange, max_retries, symbol, timeframe, since, limit):\n",
    "    \n",
    "    # Timestamp\n",
    "    earliest_timestamp = exchange.milliseconds()\n",
    "    # Duração da janela em segundos\n",
    "    timeframe_duration_in_seconds = exchange.parse_timeframe(timeframe)\n",
    "    # Duração da janela em milisegundos\n",
    "    timeframe_duration_in_ms = timeframe_duration_in_seconds * 1000\n",
    "    # Diferença de tempo\n",
    "    timedelta = limit * timeframe_duration_in_ms\n",
    "    \n",
    "    # Lista para os dados\n",
    "    all_ohlcv = []\n",
    "    \n",
    "    # Loop\n",
    "    while True:\n",
    "        # Data inicial\n",
    "        fetch_since = earliest_timestamp - timedelta\n",
    "        # Conecta na exchange \n",
    "        ohlcv = conecta_exchange(exchange, max_retries, symbol, timeframe, fetch_since, limit)\n",
    "        # Tratando limite de conexões\n",
    "        if ohlcv[0][0] >= earliest_timestamp:\n",
    "            break\n",
    "        # Atualiza o tempo mais cedo\n",
    "        earliest_timestamp = ohlcv[0][0]\n",
    "        # Atualiza os dados\n",
    "        all_ohlcv = ohlcv + all_ohlcv\n",
    "        # Andamento do processo\n",
    "        print(len(all_ohlcv), 'registros extraídos de', exchange.iso8601(all_ohlcv[0][0]), 'a', exchange.iso8601(all_ohlcv[-1][0]))\n",
    "        \n",
    "        if fetch_since < since:\n",
    "            break\n",
    "            \n",
    "    return all_ohlcv"
   ]
  },
  {
   "cell_type": "markdown",
   "id": "51ab112a",
   "metadata": {},
   "source": [
    "_Função para extração dos dados e salvar em CSV_"
   ]
  },
  {
   "cell_type": "code",
   "execution_count": null,
   "id": "2a85f4f3",
   "metadata": {},
   "outputs": [],
   "source": [
    "def extrai_dados_para_csv(filename, exchange_id, max_retries, symbol, timeframe, since, limit):\n",
    "    \n",
    "    # Obtendo o ID\n",
    "    exchange = getattr(ccxt, exchange_id)({'enableRateLimit': True,})\n",
    "    # Checa a consistência \n",
    "    if isinstance(since, str):\n",
    "        since = exchange.parse8601(since)\n",
    "    # Extrai o que está sendo comercializado\n",
    "    exchange.load_markets()\n",
    "    \n",
    "    # Extrai os dados\n",
    "    ohlcv = extrai_dados(exchange, max_retries, symbol, timeframe, since, limit)\n",
    "    # Inicializa o contador\n",
    "    key = 0\n",
    "    \n",
    "    # Loop\n",
    "    for item in ohlcv:\n",
    "        epoch = int(item[0]) / 1000\n",
    "        ohlcv[key][0] = datetime.utcfromtimestamp(epoch).strftime('%Y-%m-%d')\n",
    "        ohlcv[key][5] = int(item[5])\n",
    "        ohlcv[key].append(ohlcv[key][5])\n",
    "        ohlcv[key][5] = ohlcv[key][4]\n",
    "        key += 1\n",
    "    \n",
    "    # Comprimento de dados extraídos\n",
    "    ohlen = len(ohlcv)\n",
    "    pprint(\"Número de Registros: \" + str(ohlen))\n",
    "    \n",
    "    # Limitando a quantidade de dados\n",
    "    if ohlen > 399:\n",
    "        ohrem = ohlen - 399\n",
    "        pprint(\"Removendo: \" + str(ohrem))\n",
    "        ohlcv = ohlcv[ohrem:]\n",
    "        \n",
    "    # Gravando os dados em CSV\n",
    "    grava_csv(filename, ohlcv)\n",
    "    \n",
    "    # Print\n",
    "    print('Salvos', len(ohlcv), 'registros no arquivo', filename)"
   ]
  },
  {
   "cell_type": "markdown",
   "id": "e504545e",
   "metadata": {},
   "source": [
    "_Definindo os parâmetros para extração dos dados_"
   ]
  },
  {
   "cell_type": "code",
   "execution_count": null,
   "id": "febe618b",
   "metadata": {},
   "outputs": [],
   "source": [
    "exchange = \"bitmex\"\n",
    "simbolo = \"BTC/USD\"\n",
    "janela = \"1d\"\n",
    "data_inicio = \"2022-01-01T00:00:00Z\"\n",
    "outfile = \"dados/dataset.csv\""
   ]
  },
  {
   "cell_type": "markdown",
   "id": "c1aaeb66",
   "metadata": {},
   "source": [
    "_Extração de dados_"
   ]
  },
  {
   "cell_type": "code",
   "execution_count": null,
   "id": "2ac2aabc",
   "metadata": {},
   "outputs": [],
   "source": [
    "extrai_dados_para_csv(outfile, exchange, 3, simbolo, janela, data_inicio, 100)"
   ]
  },
  {
   "cell_type": "markdown",
   "id": "7ac0364e",
   "metadata": {},
   "source": [
    "_**Carregando e Explorando os dados**_"
   ]
  },
  {
   "cell_type": "code",
   "execution_count": null,
   "id": "91ba0b9f",
   "metadata": {},
   "outputs": [],
   "source": [
    "df = pd.read_csv(outfile)"
   ]
  },
  {
   "cell_type": "code",
   "execution_count": null,
   "id": "d0ac8a11",
   "metadata": {},
   "outputs": [],
   "source": [
    "df.head()"
   ]
  },
  {
   "cell_type": "code",
   "execution_count": null,
   "id": "3a1d33f3",
   "metadata": {},
   "outputs": [],
   "source": [
    "df.shape"
   ]
  },
  {
   "cell_type": "code",
   "execution_count": null,
   "id": "33453e1f",
   "metadata": {},
   "outputs": [],
   "source": [
    "# Dados de fechamento\n",
    "close = df.Close.values.tolist()"
   ]
  },
  {
   "cell_type": "markdown",
   "id": "2b35f21e",
   "metadata": {},
   "source": [
    "_**Analisando os dados**_"
   ]
  },
  {
   "cell_type": "markdown",
   "id": "b429ea98",
   "metadata": {},
   "source": [
    "_Carregando e explorando os dados_"
   ]
  },
  {
   "cell_type": "code",
   "execution_count": null,
   "id": "e6a2528c",
   "metadata": {},
   "outputs": [],
   "source": [
    "df = pd.read_csv(outfile)"
   ]
  },
  {
   "cell_type": "code",
   "execution_count": null,
   "id": "86d5e98c",
   "metadata": {},
   "outputs": [],
   "source": [
    "df.head()"
   ]
  },
  {
   "cell_type": "code",
   "execution_count": null,
   "id": "f1413e82",
   "metadata": {},
   "outputs": [],
   "source": [
    "df.shape"
   ]
  },
  {
   "cell_type": "code",
   "execution_count": null,
   "id": "f84d46b6",
   "metadata": {},
   "outputs": [],
   "source": [
    "# Dados de fechamento\n",
    "close = df.Close.values.tolist()"
   ]
  },
  {
   "cell_type": "code",
   "execution_count": null,
   "id": "f683b14c",
   "metadata": {},
   "outputs": [],
   "source": [
    "# Parâmetros para a versão do modelo\n",
    "window_size = 30\n",
    "skip = 5\n",
    "l = len(close) - 1"
   ]
  },
  {
   "cell_type": "markdown",
   "id": "e7eb6e61",
   "metadata": {},
   "source": [
    "_**Construção do Modelo e Otimização Bayesiana**_"
   ]
  },
  {
   "cell_type": "markdown",
   "id": "39c633f5",
   "metadata": {},
   "source": [
    "_Classe de treinamento com Deep Evolution Strategy_"
   ]
  },
  {
   "cell_type": "code",
   "execution_count": null,
   "id": "23b20694",
   "metadata": {},
   "outputs": [],
   "source": [
    "class PoliticaTrader:\n",
    "    inputs = None\n",
    "\n",
    "    def __init__(self, weights, reward_function, population_size, sigma, learning_rate):\n",
    "        \n",
    "        # Inicializando os atributos da classe\n",
    "        self.weights = weights\n",
    "        self.reward_function = reward_function\n",
    "        self.population_size = population_size\n",
    "        self.sigma = sigma\n",
    "        self.learning_rate = learning_rate\n",
    "    \n",
    "    # Obtendo dados da população\n",
    "    def get_weights_population(self, weights, population):\n",
    "        weights_population = []\n",
    "\n",
    "        for index, i in enumerate(population):\n",
    "            jittered = self.sigma * i\n",
    "            weights_population.append(weights[index] + jittered)\n",
    "        return weights_population\n",
    "    \n",
    "    # Obtendo os pesos\n",
    "    def get_weights(self):\n",
    "        return self.weights\n",
    "    \n",
    "    # Treinamento\n",
    "    def treinamento(self, epoch = 100, print_every = 1):\n",
    "        lasttime = time.time()\n",
    "\n",
    "        for i in range(epoch):\n",
    "            population = []\n",
    "            rewards = np.zeros(self.population_size)\n",
    "\n",
    "            # Loop pelo population_size\n",
    "            for k in range(self.population_size):\n",
    "                x = []\n",
    "\n",
    "                # Loop\n",
    "                for w in self.weights:\n",
    "                    x.append(np.random.randn(*w.shape))\n",
    "                population.append(x)\n",
    "        # Loop\n",
    "        for k in range(self.population_size):\n",
    "            weights_population = self.get_weights_population(self.weights, population[k])\n",
    "            rewards[k] = self.reward_function(weights_population)\n",
    "\n",
    "        # Recompensas\n",
    "            rewards = (rewards - np.mean(rewards)) / np.std(rewards)\n",
    "\n",
    "        # Loop\n",
    "        for index, w in enumerate(self.weights):\n",
    "            A = np.array([p[index] for p in population])\n",
    "\n",
    "            # Pesos da rede neural\n",
    "            self.weights[index] = (w + self.learning_rate / (self.population_size * self.sigma) * np.dot (A.T. rewards) .T)\n",
    "        if (i + 1) % print_every == 0:\n",
    "            print('Iteração %d. Recompensa: %f' % (i + 1, self.reward_function(self.weights)))\n",
    "\n",
    "        print('Tempo Total de Treinamento do Modelo:', time.time() - lasttime, 'segundos')\n"
   ]
  },
  {
   "cell_type": "markdown",
   "id": "3617ca08",
   "metadata": {},
   "source": [
    "_Modelo de Rede Neural_"
   ]
  },
  {
   "cell_type": "code",
   "execution_count": null,
   "id": "dd5e41c9",
   "metadata": {},
   "outputs": [],
   "source": [
    "class Modelo:\n",
    "    def __init__(self, input_size, layer_size, output_size):\n",
    "             self.weights = [np.random.randn(input_size, layer_size),\n",
    "                        np.random.randn(layer_size, output_size),\n",
    "                        np.random.randn(layer_size, 1),\n",
    "                        np.random.randn(1, layer_size),]\n",
    "    \n",
    "    # Função para previsão\n",
    "    def predict(self, inputs):\n",
    "        feed = np.dot(feed, self.weights[0]) + self.weights[-1]\n",
    "\n",
    "        # Previsão de Compra\n",
    "        decision = np.dot(feed, self.weights[1])\n",
    "        # Decisão de compra\n",
    "        buy = np.dot(feed, self.weights[2])\n",
    "        return decision, buy\n",
    "    \n",
    "    def get_weights(self):\n",
    "        return self.weights\n",
    "    def set_weights(self, weights):\n",
    "        self.weights = weights"
   ]
  },
  {
   "cell_type": "markdown",
   "id": "cf11ff0a",
   "metadata": {},
   "source": [
    "_Configuração do IA BOT_"
   ]
  },
  {
   "cell_type": "code",
   "execution_count": null,
   "id": "fa299333",
   "metadata": {},
   "outputs": [],
   "source": [
    "# Função para obter o estado dos dados\n",
    "def get_state(data, t, n):\n",
    "    d = t - n + 1\n",
    "    block = data[d : t + 1] if d >= 0 else -d * [data[0]] + data[0 : t + 1]\n",
    "    res = []\n",
    "    for i in range(n - 1):\n",
    "        res.append(block[i + 1] - block[i])\n",
    "    return np.array([res])"
   ]
  },
  {
   "cell_type": "code",
   "execution_count": null,
   "id": "97f28052",
   "metadata": {},
   "outputs": [],
   "source": [
    "# Classe para o agente inteligente (TRADER)\n",
    "\n",
    "class Trader:\n",
    "\n",
    "    # Método construtor\n",
    "    def __init__(self, population_size, sigma, learning_rate, model, money, max_buy, max_sell, skip, window_size,):\n",
    "        \n",
    "        # Inicializando os atributos\n",
    "        self.window_size = window_size\n",
    "        self.skip = skip\n",
    "        self.POPULATION_SIZE = population_size\n",
    "        self.SIGMA = sigma\n",
    "        self.LEARNING_RATE = learning_rate\n",
    "        self.model = model\n",
    "        self.initial_money = money\n",
    "        self.max_buy = max_buy\n",
    "        self.max_sell = max_sell\n",
    "        self.es = PoliticaTrader(self.model.get_weights(),\n",
    "                                 self.get_reward,\n",
    "                                 self.POPULATION_SIZE,\n",
    "                                 self.SIGMA,\n",
    "                                 self.LEARNING_RATE,)\n",
    "        \n",
    "    # Método para a ação\n",
    "    def agir(self, sequence):\n",
    "        decision, buy = self.model.predict(np.array(sequence))\n",
    "        return np.argmax(decision[0]), int(buy[0])\n",
    "    \n",
    "    # Método para obter a recompensa\n",
    "    def get_reward(self, weights):\n",
    "\n",
    "        # Valor inicial investido\n",
    "        initial_money = self.initial_money\n",
    "        starting_money = initial_money\n",
    "        # Pesos\n",
    "        self.model.weights = weights\n",
    "        # Estado\n",
    "        state = get_state(close, 0, self.window_size + 1)\n",
    "        # Objeto de controle\n",
    "        inventory = []\n",
    "        quantity = 0\n",
    "\n",
    "        # Loop\n",
    "        for t in range(0, 1, self.skip):\n",
    "\n",
    "            # Ação e compra/venda\n",
    "            action, buy = self.agir(state)\n",
    "            # Próximo estado\n",
    "            next_state = get_state(close, t + 1, self.window_size + 1)\n",
    "\n",
    "            # Verifica a ação e o valor inicial investido\n",
    "            if action == 1 and initial_money >= close[t]:\n",
    "                if buy < 0:\n",
    "                    buy = 1\n",
    "                if buy > self.max_buy:\n",
    "                    buy_units = self.max_buy\n",
    "                else:\n",
    "                    buy_units = buy\n",
    "                \n",
    "                total_buy = buy_units * close[t]\n",
    "                initial_money -= total_buy\n",
    "                inventory.append(total_buy)\n",
    "                quantity += buy_units\n",
    "\n",
    "            elif action == 2 and len(inventory) > 0:\n",
    "                if quantity > self.max_sell:\n",
    "                    sell_units = self.max_sell\n",
    "                else:\n",
    "                    sell_units = quantity\n",
    "                \n",
    "                quantity -= sell_units\n",
    "                total_sell = sell_units * close[t]\n",
    "                initial_money += total_sell\n",
    "            \n",
    "            # Próximo estado\n",
    "            state = next_state\n",
    "\n",
    "        return ((initial_money - starting_money) / starting_money) * 100\n",
    "    \n",
    "    # Treinamento do Trader\n",
    "    def fit(self, iterations, checkpoint):\n",
    "        self.es.treinamento(iterations, print_every = checkpoint)\n",
    "    \n",
    "    # Método de recomendação\n",
    "    def investir(self):\n",
    "\n",
    "        # Valor inicial\n",
    "        initial_money = self.initial_money\n",
    "        starting_money = initial_money\n",
    "\n",
    "        # Estado\n",
    "        state = get_state(close, 0, self.window_size + 1)\n",
    "\n",
    "        # Lista de controle\n",
    "        states_sell = []\n",
    "        states_buy = []\n",
    "        inventory = []\n",
    "        quantity = 0\n",
    "\n",
    "        # Loop\n",
    "        for t in range(0, 1, self.skip):\n",
    "\n",
    "            # Ação e compra\n",
    "            action, buy = self.agir(state)\n",
    "            # Próximo estado\n",
    "            next_state = get_state(close, t + 1, self.window_size + 1)\n",
    "\n",
    "            # Verifica ação e valor inicial investido\n",
    "            if action == 1 and initial_money >= close[t]:\n",
    "                if buy < 0:\n",
    "                    buy = 1\n",
    "                if buy > self.max_buy:\n",
    "                    buy_units = self.max_buy\n",
    "                else:\n",
    "                    buy_units = buy\n",
    "                \n",
    "                total_buy = buy_units * close[t]\n",
    "                initial_money -= total_buy\n",
    "                inventory.append(total_buy)\n",
    "                quantity += buy_units\n",
    "                states_buy.append(t)\n",
    "\n",
    "                print('Dia %d: comprar %d unidades ao preço de %f, saldo total %f' % (t, buy_units, total_buy, initial_money))\n",
    "\n",
    "            elif action == 2 and len(inventory) > 0:\n",
    "                bought_price = inventory.pop(0)\n",
    "                if quantity > self.max_sell:\n",
    "                    sell_units = self.max_sell\n",
    "                else:\n",
    "                    sell_units = quantity\n",
    "                if sell_units < 1:\n",
    "                    continue\n",
    "\n",
    "                quantity -= sell_units\n",
    "                total_sell = sell_units * close[t]\n",
    "                initial_money +- total_sell\n",
    "                states_sell.append(t)\n",
    "\n",
    "                try:\n",
    "                    invest = ((total_sell - bought_price) / bought_price) * 100\n",
    "                except:\n",
    "                    invest = 0\n",
    "                \n",
    "                print('Dia %d, vender %d unidades ao preço de %f, investimento %f %%, saldo total %f,' % (t, sell_units, total_sell, invest, initial_money))\n",
    "\n",
    "            # Próximo estado\n",
    "            state = next_state\n",
    "\n",
    "        # Investimento\n",
    "        invest = ((initial_money - starting_money) / starting_money) * 100\n",
    "\n",
    "        print('\\nGanho Total %f, Valor Total Investido %f' % (initial_money - starting_money, invest))\n",
    "        \n",
    "        plt.figure(figsize = (20, 10))\n",
    "        plt.plot(close, label = 'Valor Real de Fechamento', c = 'g')\n",
    "        plt.plot(close, 'X', label = 'Previsão de Compra', markevery = states_buy, c = 'b')\n",
    "        plt.plot(close, 'o', label = 'Previsão de Venda', markevery = states_sell, c = 'r')\n",
    "        plt.legend()\n",
    "        plt.show()\n",
    "                \n",
    "\n",
    "\n"
   ]
  },
  {
   "cell_type": "markdown",
   "id": "7e901d8f",
   "metadata": {},
   "source": [
    "_Funções para encontrar a melhor versão do Trader_"
   ]
  },
  {
   "cell_type": "code",
   "execution_count": null,
   "id": "7f8d7df3",
   "metadata": {},
   "outputs": [],
   "source": [
    "# Função\n",
    "def melhor_trader(window_size, skip, population_size, sigma, learning_rate, size_network):\n",
    "\n",
    "    # Criar o modelo\n",
    "    model = Modelo(window_size, size_network, 3)\n",
    "\n",
    "    # Criar o trader\n",
    "    trader = Trader(population_size, sigma, learning_rate, model, 10000, 5, 5, skip, window_size,)\n",
    "\n",
    "    # Treinamento\n",
    "    try:\n",
    "        trader.fit(100, 1000)\n",
    "        return trader.es.reward_function(trader.es.weights)\n",
    "    except:\n",
    "        return 0"
   ]
  },
  {
   "cell_type": "markdown",
   "id": "3d13abbb",
   "metadata": {},
   "source": [
    "_Função para encontrar o melhor trade de acordo com os hiperparâmetros_"
   ]
  },
  {
   "cell_type": "code",
   "execution_count": null,
   "id": "5609d467",
   "metadata": {},
   "outputs": [],
   "source": [
    "# Função\n",
    "def busca_melhor_trader(window_size, skip, population_size, sigma, learning_rate, size_network):\n",
    "\n",
    "    # Variável global\n",
    "    global accbest\n",
    "\n",
    "    # Hiperparâmetros\n",
    "    param = {'window_size': int(np.around(window_size)),\n",
    "             'skip': int(np.around(skip)),\n",
    "             'population_size': int(np.around(population_size)),\n",
    "             'sigma': max(min(sigma, 1), 0.0001),\n",
    "             'learning_rate': max(min(learning_rate, 0.5), 0.000001),\n",
    "             'size_network': int(np.around(size_network),)}\n",
    "    \n",
    "    print('\\nBuscando parâmetros %s' % (param))\n",
    "\n",
    "    # Investimento feito pelo mehlor trader\n",
    "    investment = melhor_trader(**param)\n",
    "\n",
    "    print('Após 100 iterações o investimento foi de %f' % (investment))\n",
    "\n",
    "    return investment"
   ]
  },
  {
   "cell_type": "markdown",
   "id": "422601ea",
   "metadata": {},
   "source": [
    "_Otimização Bayesiana para os hiperparâmetros de modelo_"
   ]
  },
  {
   "cell_type": "code",
   "execution_count": null,
   "id": "f81e6491",
   "metadata": {},
   "outputs": [],
   "source": [
    "# Modelo para otimização bayesiana de hiperparâmetros\n",
    "otimizacao_bayesiana = BayesianOptimization(busca_melhor_trader, {'window_size': (2, 50),\n",
    "                                                                  'skip': (1, 15),\n",
    "                                                                  'population_size': (1, 50),\n",
    "                                                                  'sigma': (0.01, 0.99),\n",
    "                                                                  'learning_rate': (0.000001, 0.49),\n",
    "                                                                  'size_network': (10, 1000),},)\n",
    "                                                                   "
   ]
  },
  {
   "cell_type": "code",
   "execution_count": null,
   "id": "3f846fb5",
   "metadata": {},
   "outputs": [],
   "source": [
    "%%time\n",
    "otimizacao_bayesiana.maximize(init_points = 30, n_iter = 50, acq = 'ei', xi = 0.0)"
   ]
  }
 ],
 "metadata": {
  "kernelspec": {
   "display_name": "Python 3 (ipykernel)",
   "language": "python",
   "name": "python3"
  },
  "language_info": {
   "codemirror_mode": {
    "name": "ipython",
    "version": 3
   },
   "file_extension": ".py",
   "mimetype": "text/x-python",
   "name": "python",
   "nbconvert_exporter": "python",
   "pygments_lexer": "ipython3",
   "version": "3.9.13"
  }
 },
 "nbformat": 4,
 "nbformat_minor": 5
}
